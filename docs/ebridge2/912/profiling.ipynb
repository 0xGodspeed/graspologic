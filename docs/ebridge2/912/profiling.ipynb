{
 "cells": [
  {
   "cell_type": "code",
   "execution_count": 80,
   "metadata": {},
   "outputs": [],
   "source": [
    "import networkx as nx\n",
    "import numpy as np\n",
    "import pandas as pd\n",
    "import time\n",
    "from plotnine import *\n"
   ]
  },
  {
   "cell_type": "markdown",
   "metadata": {},
   "source": [
    "# Basic Profiling\n",
    "\n",
    "Here, we will develop a small code-base for testing the speed of converting between `networkx` and `numpy` arrays. These demonstrations will serve as the groundwork for whether the internal data structure of the package should be numpy matrices or just networkx objects, with appropriate conversion scripts held internally to handle operations such as converting between different edge types or optionally for select algorithms to internally convert to adjacency matrices. Using `networkx` objects gives us the benefit of not having to manually keep track of useful metadata such as graphs with richly attributed attributes, such as richly attributed vertices (ie, vertex labels, vertex names, vertex hierarchies) and/or richly attributed edges (ie, multiple weight functions for a single graph).\n",
    "\n",
    "## Goal\n",
    "\n",
    "The goal of these experiments is to identify whether, in a basic framework, a package based solely on `networkx` objects would incur a significant (>10 seconds) speed hit for using `networkx` graphs instead of defaulting to convert everything directly to `numpy` adjacency matrices. The results of these experiments will give us some basic direction moving forward with the formation of the package.\n",
    "\n",
    "## Model\n",
    "\n",
    "We will use the following simulations:\n",
    "\n",
    "\\begin{align*}\n",
    "    \\left(\\mathcal{V}_n, \\mathcal{E}_{n, p}, \\mathcal{W}_{n, p}\\right) ~ ER(n, p) \\times \\mathcal{N}(0, 1)\n",
    "\\end{align*}\n",
    "\n",
    "where $ER(n, p)$ is the Erdos-Renyi model with $n$ vertices and $p$ probability of an edge existing. We know by the ER model that $\\mathbb{E}\\[|\\mathcal{E}\\] = n^2p$ where $\\mathcal{E}$ is the number of edges in the graph. We also add a weight parameter where the weights are normally distributed with $\\mu = 0$ and $\\sigma = 1$, since many of the graphs in our case will be weighted in some form, and therefore this model will provide a more indicative performance for our real-world implementation. We will test for a dense setting where $p = 0.8$ and a sparse setting where $p = 0.2$.\n",
    "\n",
    "## Algorithm\n",
    "\n",
    "For simulating graphs from the $ER(n, p) \\times \\mathcal{N}(0, 1)$ model, we will use the following approach:\n",
    "+ for p in (0.2, 0.8):\n",
    "  + for n in logspace(3, 10, len=10):\n",
    "    + A = empty $n \\times n$ numpy array\n",
    "    + sample at random $n^2p$ indices from $A$, and assign each of these points weight $\\mathcal{N}(0, 1)$\n",
    "    + convert $A$ to a `networkx` graph `G` in time $t_\\rightarrow$\n",
    "    + measure the time to convert `G` back to a `numpy` matrix in time $t_\\leftarrow$\n",
    "    + record $t_{\\rightarrow}$ and $t_{\\leftarrow}$\n",
    "    + repeat $z$ times"
   ]
  },
  {
   "cell_type": "code",
   "execution_count": 94,
   "metadata": {},
   "outputs": [
    {
     "name": "stdout",
     "output_type": "stream",
     "text": [
      "p: 0.20\n",
      "n: 64\n",
      "i: 0\n",
      "i: 5\n",
      "i: 10\n",
      "i: 15\n",
      "n: 88\n",
      "i: 0\n",
      "i: 5\n",
      "i: 10\n",
      "i: 15\n",
      "n: 119\n",
      "i: 0\n",
      "i: 5\n",
      "i: 10\n",
      "i: 15\n",
      "n: 162\n",
      "i: 0\n",
      "i: 5\n",
      "i: 10\n",
      "i: 15\n",
      "n: 220\n",
      "i: 0\n",
      "i: 5\n",
      "i: 10\n",
      "i: 15\n",
      "n: 299\n",
      "i: 0\n",
      "i: 5\n",
      "i: 10\n",
      "i: 15\n",
      "n: 407\n",
      "i: 0\n",
      "i: 5\n",
      "i: 10\n",
      "i: 15\n",
      "n: 553\n",
      "i: 0\n",
      "i: 5\n",
      "i: 10\n",
      "i: 15\n",
      "n: 753\n",
      "i: 0\n",
      "i: 5\n",
      "i: 10\n",
      "i: 15\n",
      "n: 1024\n",
      "i: 0\n",
      "i: 5\n",
      "i: 10\n",
      "i: 15\n",
      "p: 0.80\n",
      "n: 64\n",
      "i: 0\n",
      "i: 5\n",
      "i: 10\n",
      "i: 15\n",
      "n: 88\n",
      "i: 0\n",
      "i: 5\n",
      "i: 10\n",
      "i: 15\n",
      "n: 119\n",
      "i: 0\n",
      "i: 5\n",
      "i: 10\n",
      "i: 15\n",
      "n: 162\n",
      "i: 0\n",
      "i: 5\n",
      "i: 10\n",
      "i: 15\n",
      "n: 220\n",
      "i: 0\n",
      "i: 5\n",
      "i: 10\n",
      "i: 15\n",
      "n: 299\n",
      "i: 0\n",
      "i: 5\n",
      "i: 10\n",
      "i: 15\n",
      "n: 407\n",
      "i: 0\n",
      "i: 5\n",
      "i: 10\n",
      "i: 15\n",
      "n: 553\n",
      "i: 0\n",
      "i: 5\n",
      "i: 10\n",
      "i: 15\n",
      "n: 753\n",
      "i: 0\n",
      "i: 5\n",
      "i: 10\n",
      "i: 15\n",
      "n: 1024\n",
      "i: 0\n",
      "i: 5\n",
      "i: 10\n",
      "i: 15\n"
     ]
    }
   ],
   "source": [
    "ns = np.ceil(np.logspace(6, 10, num=11, base=2.0)).astype(int)\n",
    "ps = [0.2, 0.8]\n",
    "z = 20\n",
    "res_forward = []; res_backward = []; nar = []; par = []; zar = []\n",
    "\n",
    "for p in ps:\n",
    "    print(\"p: {:.2f}\".format(p))\n",
    "    for n in ns:\n",
    "        print(\"n: {:d}\".format(n))\n",
    "        for i in range(0, z):\n",
    "            if (i%5 == 0):\n",
    "                print(\"i: {:d}\".format(i))\n",
    "            A = np.zeros((n, n))\n",
    "            nedge = int(round(n*n*p))\n",
    "            np.put(A, np.random.choice(np.arange(0, n*n), size=nedge, replace=False), np.random.normal(size=nedge))\n",
    "            t = time.time()\n",
    "            Gfor = nx.from_numpy_matrix(A)\n",
    "            ftime = time.time() - t\n",
    "            t = time.time()\n",
    "            Aback = nx.to_numpy_matrix(Gfor)\n",
    "            rtime = time.time() - t\n",
    "            res_forward.append(ftime); res_backward.append(rtime); nar.append(n); par.append(p); zar.append(i)"
   ]
  },
  {
   "cell_type": "code",
   "execution_count": 98,
   "metadata": {
    "scrolled": true
   },
   "outputs": [],
   "source": [
    "results = pd.DataFrame({'AG': res_forward, 'GA': res_backward, 'n': nar, 'p': par, 'z': zar})"
   ]
  },
  {
   "cell_type": "code",
   "execution_count": 103,
   "metadata": {},
   "outputs": [
    {
     "data": {
      "text/plain": [
       "array(['AG', 'GA', 'n', 'p', 'z'], dtype=object)"
      ]
     },
     "execution_count": 103,
     "metadata": {},
     "output_type": "execute_result"
    }
   ],
   "source": [
    "results\n",
    "results.columns.values\n",
    "results.plot(x='n', y='AG')"
   ]
  },
  {
   "cell_type": "code",
   "execution_count": null,
   "metadata": {},
   "outputs": [],
   "source": []
  },
  {
   "cell_type": "code",
   "execution_count": null,
   "metadata": {},
   "outputs": [],
   "source": []
  },
  {
   "cell_type": "code",
   "execution_count": null,
   "metadata": {},
   "outputs": [],
   "source": []
  },
  {
   "cell_type": "code",
   "execution_count": null,
   "metadata": {},
   "outputs": [],
   "source": []
  },
  {
   "cell_type": "code",
   "execution_count": null,
   "metadata": {},
   "outputs": [],
   "source": []
  },
  {
   "cell_type": "code",
   "execution_count": null,
   "metadata": {},
   "outputs": [],
   "source": []
  },
  {
   "cell_type": "code",
   "execution_count": null,
   "metadata": {},
   "outputs": [],
   "source": []
  },
  {
   "cell_type": "code",
   "execution_count": null,
   "metadata": {},
   "outputs": [],
   "source": []
  },
  {
   "cell_type": "code",
   "execution_count": null,
   "metadata": {},
   "outputs": [],
   "source": []
  }
 ],
 "metadata": {
  "kernelspec": {
   "display_name": "env-graphstats",
   "language": "python",
   "name": "env-graphstats"
  },
  "language_info": {
   "codemirror_mode": {
    "name": "ipython",
    "version": 3
   },
   "file_extension": ".py",
   "mimetype": "text/x-python",
   "name": "python",
   "nbconvert_exporter": "python",
   "pygments_lexer": "ipython3",
   "version": "3.6.5"
  }
 },
 "nbformat": 4,
 "nbformat_minor": 2
}
