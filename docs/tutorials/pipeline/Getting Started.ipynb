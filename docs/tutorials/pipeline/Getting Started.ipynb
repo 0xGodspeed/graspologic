{
 "cells": [
  {
   "cell_type": "markdown",
   "id": "8333695a",
   "metadata": {},
   "source": [
    "# Getting Started with Graspologic\n",
    "Graspologic brings a lot of novel network statistics algorithms to the table, but what if you're just getting started? What if you're not even sure how, or where, to start?\n",
    "\n",
    "This tutorial is intended to help you get started with some of the tools and capabilities within Graspologic.  We'll focus primarily on using Graspologic through the `pipeline` module, which gives a slightly simpler and opinionated but less flexible approach toward the capabilities within the Graspologic library.\n",
    "\n",
    "The following tutorial is going to follow a simple flow.\n",
    "\n",
    "We're going to take an example edge list, load it into a [networkx Graph](https://networkx.org/documentation/stable/reference/classes/index.html) object, run an automatic layout step so we have an idea how and where similar nodes cluster together and connect to each other, identify some communities via one of the community detection algorithms, embed our graph, and load our embeddings into a nearest neighbor object and retrieve some of the most similar nodes for a small set of nodes.\n",
    "\n"
   ]
  },
  {
   "cell_type": "markdown",
   "id": "1930d59e",
   "metadata": {},
   "source": [
    "## Graph\n",
    "\n",
    "\n"
   ]
  },
  {
   "cell_type": "code",
   "execution_count": null,
   "id": "26723286",
   "metadata": {},
   "outputs": [],
   "source": [
    "data_file = \"graph_name.csv\"\n",
    "\n",
    "import networkx as nx\n",
    "\n",
    "graph = nx.Graph()\n",
    "with open(data_file, \"r\") as edges_io:\n",
    "    next(edges_io)  # skips the header line in the file\n",
    "    for line in edges_io:\n",
    "        # usually using the csv module is more ideal, but we know this works and I want to keep it simple\n",
    "        source, target, weight = line.strip().split(\",\")\n",
    "        weight = float(weight)\n",
    "        # the weight kwarg gets attached to the edge as an attribute in the edge's data dictionary.\n",
    "        # this data dictionary can contain anything, but `weight` is a commonly used attribute that indicates\n",
    "        # the strength of the connection\n",
    "        graph.add_edge(source, target, weight=weight)\n"
   ]
  },
  {
   "cell_type": "markdown",
   "id": "047fade2",
   "metadata": {},
   "source": [
    "## Visualize\n",
    "\n",
    "Automatic visualizations of networks is a surprisingly difficult problem. Some of the most common layout methods either do not scale well with graph size or require a lot of per-network fine-tuning of arguments that make it feel like an art form than a science.\n",
    "\n",
    "In an attempt to get reasonable (or at least acceptable) layouts in a completely undirected manner, we have built a way that first embeds the nodes of the network into a moderate 128-dimensional space using node2vec, and then use [UMAP](https://umap-learn.readthedocs.io/en/latest/) to downproject these 128 dimensions into 2 dimensions; x and y coordinates.\n",
    "\n",
    "Then, to avoid too much node occlusion, we run a quad-tree based no-overlap algorithm over the 2 dimensional positions and display the layout- and all of this comes in just two function calls."
   ]
  },
  {
   "cell_type": "code",
   "execution_count": null,
   "id": "f62133c1",
   "metadata": {},
   "outputs": [],
   "source": [
    "import graspologic as gc\n",
    "\n",    
    "working_graph, positions = gc.layouts.layout_umap(graph)\n",
    "# working graph may differ from `graph` - this automatic layout mechanism will try to keep our graph size under\n",
    "# a default maximum edge count of 10m edges (and achieves this by pruning the lowest weight edges until it gets to around 10m in size)\n",
    "# it also doesn't work super well if we have more than one connected component, so it only works on the largest\n",
    "# connected component in the graph\n",
    "\n",
    "gc.layouts.show_graph(working_graph, positions) \n",
    "# in jupyter and interpreter, we show away - but if we wanted to save, we could use `gc.layouts.save_graph` \n",
    "# and save a png"
   ]
  },
  {
   "cell_type": "markdown",
   "id": "2fd3e20d",
   "metadata": {},
   "source": [
    "## Communities\n",
    "\n",
    "In networks, the word `communities` describes a group of nodes that are more densely connected to each other and more loosely connected to others. If you think about social networks, it should be pretty obvious that some groups of people have stronger connections to each other than to everyone else in the network, and it should also be obvious that there are some individuals that could conceivably be part of many communities.\n",
    "\n",
    "In the next step, we're going to define a community structure to mean \"every node in the network is in precisely one community\". I just referenced how there are circumstances in which you could arguably belong to many communities; the [Leiden](https://arxiv.org/abs/1810.08473) algorithm we are going to use just attempts to find the best community for us by maximizing [modularity](https://en.wikipedia.org/wiki/Modularity_(networks)).  In other words, these communities should be _reasonable_ assertions, if not objectively optimal."
   ]
  },
  {
   "cell_type": "code",
   "execution_count": null,
   "id": "0fb8ff71",
   "metadata": {},
   "outputs": [],
   "source": [
    "import graspologic as gc\n",
    "\n",
    "# partitions is a dictionary of node_id -> partition/community id (int)\n",
    "partitions = gc.partition.leiden(graph) # note that we're doing this to the entire graph, not the working_graph from above\n",
    "\n",
    "# look up a few nodes, show their communities, show some other nodes in their communities?\n",
    "community_lists = {}\n",
    "for node_id, partition_id in partitions.items():\n",
    "    community_list = community_lists.get(node_id, [])\n",
    "    community_list.append(node_id)\n",
    "    community_lists[node_id] = community_list\n",
    "\n",
    "community_populations = {partition_id: len(community_list) for partition_id, community_list in community_lists.items()}\n"
   ]
  },
  {
   "cell_type": "markdown",
   "id": "16768f9b",
   "metadata": {},
   "source": [
    "## Embedding for Link Prediction\n",
    "\n",
    "Our last task of the tutorial is going to be to create an embedding, using [node2vec](https://arxiv.org/abs/1607.00653), and then use the latent positions generated to populate a [Nearest Neighbors](https://scikit-learn.org/stable/modules/neighbors.html) model. \n",
    "\n",
    "An exceptionally short explanation of the premise is that if the latent position correlated to a node in high dimensional space is _relatively_ close to another latent position, then the nodes are likely similar. Probably."
   ]
  },
  {
   "cell_type": "code",
   "execution_count": null,
   "id": "c0abd120",
   "metadata": {},
   "outputs": [],
   "source": [
    "embedding, node_labels = gc.embed.node2vec_embed(graph)\n",
    "\n",
    "from sklearn.neighbors import NearestNeighbors\n",
    "\n",
    "neighbors = NearestNeighbors(n_neighbors=11)\n",
    "neighbors.fit(embedding)\n",
    "\n",
    "node_embedding = embedding[134] # some random embedding\n",
    "\n",
    "nearest_distances, nearest_indices = neighbors.kneighbors([node_embedding])\n",
    "\n"
   ]
  },
  {
   "cell_type": "markdown",
   "id": "34f74f33",
   "metadata": {},
   "source": [
    "# Epilogue\n",
    "\n",
    "This tutorial is **not** intended to be the optimal path through graph machine learning. At every step of the way, there are plausible, reasonable, and arguably superior routes you can or should take; some dependant upon the data you have, some upon the task you're trying to solve, some upon the system resources you have for the data you have... it's non-trivial work ahead of you.\n",
    "\n",
    "However, it's my hope that tutorial has helped you to start the process of exploring GraphML with Graspologic."
   ]
  }
 ],
 "metadata": {
  "kernelspec": {
   "display_name": "Python 3 (ipykernel)",
   "language": "python",
   "name": "python3"
  },
  "language_info": {
   "codemirror_mode": {
    "name": "ipython",
    "version": 3
   },
   "file_extension": ".py",
   "mimetype": "text/x-python",
   "name": "python",
   "nbconvert_exporter": "python",
   "pygments_lexer": "ipython3",
   "version": "3.8.10"
  }
 },
 "nbformat": 4,
 "nbformat_minor": 5
}
